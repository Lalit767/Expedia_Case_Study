# Data Cleansing for dataset
# 1. Load Libraries
import pandas as pd
import seaborn as sns
import matplotlib.pyplot as plt
import numpy as np

# Load your dataset
df = pd.read_csv("/content/HCOM_Analytics_Insights_Case_Study_Dataset.csv")

# ----`Data Information ------
df.info()
df.describe()

# Step 1: Remove rows with invalid dates
df = df[pd.to_datetime(df['Date'], errors='coerce').notna()].copy()


# Step 2: Remove duplicate rows
df = df.drop_duplicates()

# Step 3: Convert 'Date' column to datetime format
df['Date'] = pd.to_datetime(df['Date'])

# Columns to check
numeric_columns = ['Visits', 'Qualified Shoppers', 'Bounced Visits', 'Gross Orders', 'Net Orders', 'Net Room Nights']

# Check for zero or negative values
zero_negative_summary = {
    col: {
        "Zero Values": (df[col] == 0).sum(),
        "Negative Values": (df[col] < 0).sum()
    } for col in numeric_columns
}

# Zero or negative values
zero_neg_counts = {
    col: (df[col] <= 0).sum()
    for col in ['Net Room Nights', 'Gross Orders', 'Net Orders', 'Visits']
    if col in df.columns
}

plt.figure(figsize=(8, 4))
sns.barplot(x=list(zero_neg_counts.keys()), y=list(zero_neg_counts.values()))
plt.title('Zero or Negative Value Count')
plt.ylabel('Records Count')
plt.show()

# 3. Outliers via boxplots
plt.figure(figsize=(10, 4))
sns.boxplot(data=df[['Net Room Nights', 'Gross Orders', 'Net Orders']])
plt.title('Boxplot to Check for Outliers')
plt.show()

# 4. Date coverage check
df['Date'] = pd.to_datetime(df['Date'])
daily_counts = df.groupby('Date').size()

plt.figure(figsize=(12, 4))
daily_counts.plot()
plt.title('Record Count per Day')
plt.ylabel('Number of Records')
plt.show()

# Create derived COLUMNS ---
df['Month'] = df['Date'].dt.to_period('M')
df['DayOfWeek'] = df['Date'].dt.dayofweek
df['IsWeekend'] = df['DayOfWeek'].isin([5, 6])
df["Day"] = df["Date"].dt.date
df["Weekday"] = df["Date"].dt.day_name()
df["Quarter"] = df["Date"].dt.to_period("Q").astype(str)
df["Year"] = df["Date"].dt.year

# View dataframe schema
print("Cleaned dataset shape:", df.shape)
print(df.head())
