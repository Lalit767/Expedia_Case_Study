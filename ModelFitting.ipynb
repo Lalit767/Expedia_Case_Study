{
  "nbformat": 4,
  "nbformat_minor": 0,
  "metadata": {
    "colab": {
      "provenance": [],
      "authorship_tag": "ABX9TyNaYFgazKBAAkhwkUd9pKGE",
      "include_colab_link": true
    },
    "kernelspec": {
      "name": "python3",
      "display_name": "Python 3"
    },
    "language_info": {
      "name": "python"
    }
  },
  "cells": [
    {
      "cell_type": "markdown",
      "metadata": {
        "id": "view-in-github",
        "colab_type": "text"
      },
      "source": [
        "<a href=\"https://colab.research.google.com/github/Lalit767/Expedia_Case_Study/blob/main/ModelFitting.ipynb\" target=\"_parent\"><img src=\"https://colab.research.google.com/assets/colab-badge.svg\" alt=\"Open In Colab\"/></a>"
      ]
    },
    {
      "cell_type": "code",
      "execution_count": 3,
      "metadata": {
        "id": "5p-iHYFOHhnv",
        "colab": {
          "base_uri": "https://localhost:8080/",
          "height": 588
        },
        "outputId": "2982170b-0e38-4694-a399-46c271b5d4aa"
      },
      "outputs": [
        {
          "output_type": "stream",
          "name": "stdout",
          "text": [
            "                           Model  R² Score        RMSE\n",
            "1  Polynomial Regression (deg=2)  0.998255  239.006235\n",
            "2                  Random Forest  0.998026  254.183301\n",
            "0              Linear Regression  0.990177  567.014910\n"
          ]
        },
        {
          "output_type": "stream",
          "name": "stderr",
          "text": [
            "<ipython-input-3-57c2ea19a398>:99: FutureWarning: \n",
            "\n",
            "Passing `palette` without assigning `hue` is deprecated and will be removed in v0.14.0. Assign the `y` variable to `hue` and set `legend=False` for the same effect.\n",
            "\n",
            "  sns.barplot(data=results_df, x=\"R² Score\", y=\"Model\", palette=\"Set2\")\n"
          ]
        },
        {
          "output_type": "display_data",
          "data": {
            "text/plain": [
              "<Figure size 800x400 with 1 Axes>"
            ],
            "image/png": "[encoded data removed]"
          },
          "metadata": {}
        }
      ],
      "source": [
        "# Import libraries\n",
        "import pandas as pd\n",
        "import numpy as np\n",
        "from sklearn.model_selection import train_test_split\n",
        "from sklearn.linear_model import LinearRegression\n",
        "from sklearn.preprocessing import PolynomialFeatures, LabelEncoder\n",
        "from sklearn.ensemble import RandomForestRegressor\n",
        "from sklearn.pipeline import make_pipeline\n",
        "from sklearn.metrics import r2_score, mean_squared_error\n",
        "import matplotlib.pyplot as plt\n",
        "import seaborn as sns\n",
        "\n",
        "# Load dataset\n",
        "df = pd.read_csv(\"/content/sample_data/HCOM_Analytics_Insights_Case_Study_Dataset.csv\")\n",
        "\n",
        "# ----`Data Information ------\n",
        "df.info()\n",
        "df.describe()\n",
        "\n",
        "# Step 1: Remove rows with invalid dates\n",
        "df = df[pd.to_datetime(df['Date'], errors='coerce').notna()].copy()\n",
        "\n",
        "\n",
        "# Step 2: Remove duplicate rows\n",
        "df = df.drop_duplicates()\n",
        "\n",
        "# Step 3: Convert 'Date' column to datetime format\n",
        "df['Date'] = pd.to_datetime(df['Date'])\n",
        "\n",
        "# Columns to check\n",
        "numeric_columns = ['Visits', 'Qualified Shoppers', 'Bounced Visits', 'Gross Orders', 'Net Orders', 'Net Room Nights']\n",
        "\n",
        "\n",
        "# Encode categorical columns\n",
        "df_encoded = df.copy()\n",
        "for col in ['Geographic Region', 'Platform', 'Marketing Channel']:\n",
        "    df_encoded[col] = LabelEncoder().fit_transform(df_encoded[col])\n",
        "\n",
        "# Drop Date and define features/target\n",
        "X = df_encoded.drop(columns=[\"Net Room Nights\", \"Date\"])\n",
        "y = df_encoded[\"Net Room Nights\"]\n",
        "\n",
        "# Split into train/test\n",
        "X_train, X_test, y_train, y_test = train_test_split(X, y, test_size=0.2, random_state=42)\n",
        "\n",
        "# Store model results\n",
        "results = []\n",
        "\n",
        "### 1. Linear Regression\n",
        "lin_model = LinearRegression()\n",
        "lin_model.fit(X_train, y_train)\n",
        "y_pred_lin = lin_model.predict(X_test)\n",
        "results.append({\n",
        "    \"Model\": \"Linear Regression\",\n",
        "    \"R² Score\": r2_score(y_test, y_pred_lin),\n",
        "    \"RMSE\": np.sqrt(mean_squared_error(y_test, y_pred_lin))\n",
        "})\n",
        "\n",
        "### 2. Polynomial Regression (degree=2)\n",
        "poly_model = make_pipeline(PolynomialFeatures(degree=2), LinearRegression())\n",
        "poly_model.fit(X_train, y_train)\n",
        "y_pred_poly = poly_model.predict(X_test)\n",
        "results.append({\n",
        "    \"Model\": \"Polynomial Regression (deg=2)\",\n",
        "    \"R² Score\": r2_score(y_test, y_pred_poly),\n",
        "    \"RMSE\": np.sqrt(mean_squared_error(y_test, y_pred_poly))\n",
        "})\n",
        "\n",
        "### 3. Random Forest Regression\n",
        "rf_model = RandomForestRegressor(n_estimators=100, random_state=42)\n",
        "rf_model.fit(X_train, y_train)\n",
        "y_pred_rf = rf_model.predict(X_test)\n",
        "results.append({\n",
        "    \"Model\": \"Random Forest\",\n",
        "    \"R² Score\": r2_score(y_test, y_pred_rf),\n",
        "    \"RMSE\": np.sqrt(mean_squared_error(y_test, y_pred_rf))\n",
        "})\n",
        "\n",
        "# Convert results to DataFrame and display\n",
        "results_df = pd.DataFrame(results).sort_values(by=\"R² Score\", ascending=False)\n",
        "print(results_df)\n",
        "\n",
        "# Optional: Plot\n",
        "plt.figure(figsize=(8, 4))\n",
        "sns.barplot(data=results_df, x=\"R² Score\", y=\"Model\", palette=\"Set2\")\n",
        "plt.title(\"Model Performance Comparison (R² Score)\")\n",
        "plt.xlim(0, 1)\n",
        "plt.tight_layout()\n",
        "plt.show()\n"
      ]
    },
    {
      "cell_type": "code",
      "source": [
        "from google.colab import drive\n",
        "drive.mount('/content/drive')"
      ],
      "metadata": {
        "id": "l3Gf-1OQHsWv"
      },
      "execution_count": null,
      "outputs": []
    }
  ]
}